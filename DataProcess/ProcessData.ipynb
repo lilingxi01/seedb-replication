{
 "cells": [
  {
   "cell_type": "code",
   "execution_count": 10,
   "id": "2c45032d",
   "metadata": {},
   "outputs": [],
   "source": [
    "import pandas as pd\n",
    "import numpy as np"
   ]
  },
  {
   "cell_type": "code",
   "execution_count": 2,
   "id": "cf06fe3a",
   "metadata": {},
   "outputs": [],
   "source": [
    "fields = [\n",
    "    \"age\", \"workclass\", \"fnlwgt\", \"education\", \"education_num\",\n",
    "    \"marital_status\", \"occupation\", \"relationship\", \"race\", \"sex\",\n",
    "    \"capital_gain\", \"capital_loss\", \"hours_per_week\", \"native_country\", \"income\"\n",
    "]"
   ]
  },
  {
   "cell_type": "code",
   "execution_count": 3,
   "id": "7e736e8b",
   "metadata": {},
   "outputs": [],
   "source": [
    "file_path = 'data/adult.data'  \n",
    "df = pd.read_csv(file_path, names=fields, na_values=\"?\", skipinitialspace=True)"
   ]
  },
  {
   "cell_type": "code",
   "execution_count": 4,
   "id": "a99d8240",
   "metadata": {},
   "outputs": [
    {
     "name": "stdout",
     "output_type": "stream",
     "text": [
      "Unique marital status values in the dataset: ['Never-married' 'Married-civ-spouse' 'Divorced' 'Married-spouse-absent'\n",
      " 'Separated' 'Married-AF-spouse' 'Widowed']\n"
     ]
    }
   ],
   "source": [
    "unique_marital_status = df['marital_status'].unique()\n",
    "print(\"Unique marital status values in the dataset:\", unique_marital_status)"
   ]
  },
  {
   "cell_type": "code",
   "execution_count": 5,
   "id": "dbe30405",
   "metadata": {},
   "outputs": [
    {
     "name": "stdout",
     "output_type": "stream",
     "text": [
      "   age         workclass  fnlwgt  education  education_num  \\\n",
      "0   39         State-gov   77516  Bachelors             13   \n",
      "1   50  Self-emp-not-inc   83311  Bachelors             13   \n",
      "2   38           Private  215646    HS-grad              9   \n",
      "3   53           Private  234721       11th              7   \n",
      "4   28           Private  338409  Bachelors             13   \n",
      "\n",
      "       marital_status         occupation   relationship   race     sex  \\\n",
      "0       Never-married       Adm-clerical  Not-in-family  White    Male   \n",
      "1  Married-civ-spouse    Exec-managerial        Husband  White    Male   \n",
      "2            Divorced  Handlers-cleaners  Not-in-family  White    Male   \n",
      "3  Married-civ-spouse  Handlers-cleaners        Husband  Black    Male   \n",
      "4  Married-civ-spouse     Prof-specialty           Wife  Black  Female   \n",
      "\n",
      "   capital_gain  capital_loss  hours_per_week native_country income  \n",
      "0          2174             0              40  United-States  <=50K  \n",
      "1             0             0              13  United-States  <=50K  \n",
      "2             0             0              40  United-States  <=50K  \n",
      "3             0             0              40  United-States  <=50K  \n",
      "4             0             0              40           Cuba  <=50K  \n",
      "<class 'pandas.core.frame.DataFrame'>\n",
      "RangeIndex: 32561 entries, 0 to 32560\n",
      "Data columns (total 15 columns):\n",
      " #   Column          Non-Null Count  Dtype \n",
      "---  ------          --------------  ----- \n",
      " 0   age             32561 non-null  int64 \n",
      " 1   workclass       30725 non-null  object\n",
      " 2   fnlwgt          32561 non-null  int64 \n",
      " 3   education       32561 non-null  object\n",
      " 4   education_num   32561 non-null  int64 \n",
      " 5   marital_status  32561 non-null  object\n",
      " 6   occupation      30718 non-null  object\n",
      " 7   relationship    32561 non-null  object\n",
      " 8   race            32561 non-null  object\n",
      " 9   sex             32561 non-null  object\n",
      " 10  capital_gain    32561 non-null  int64 \n",
      " 11  capital_loss    32561 non-null  int64 \n",
      " 12  hours_per_week  32561 non-null  int64 \n",
      " 13  native_country  31978 non-null  object\n",
      " 14  income          32561 non-null  object\n",
      "dtypes: int64(6), object(9)\n",
      "memory usage: 3.7+ MB\n",
      "None\n"
     ]
    }
   ],
   "source": [
    "print(df.head())\n",
    "print(df.info())"
   ]
  },
  {
   "cell_type": "code",
   "execution_count": 6,
   "id": "793e61a5",
   "metadata": {},
   "outputs": [],
   "source": [
    "marital_status_mapping = {\n",
    "    'Married-civ-spouse': 'Married',\n",
    "    'Widowed': 'Married',\n",
    "    'Married-spouse-absent': 'Married',\n",
    "    'Married-AF-spouse': 'Married',\n",
    "    'Separated': 'Married',\n",
    "    'Divorced': 'Unmarried',\n",
    "    'Never-married': 'Unmarried'\n",
    "}\n",
    "df['marital_status'] = df['marital_status'].map(marital_status_mapping)"
   ]
  },
  {
   "cell_type": "code",
   "execution_count": 7,
   "id": "d459e147",
   "metadata": {
    "scrolled": true
   },
   "outputs": [
    {
     "name": "stdout",
     "output_type": "stream",
     "text": [
      "   age         workclass  fnlwgt  education  education_num marital_status  \\\n",
      "0   39         State-gov   77516  Bachelors             13      Unmarried   \n",
      "1   50  Self-emp-not-inc   83311  Bachelors             13        Married   \n",
      "2   38           Private  215646    HS-grad              9      Unmarried   \n",
      "3   53           Private  234721       11th              7        Married   \n",
      "4   28           Private  338409  Bachelors             13        Married   \n",
      "\n",
      "          occupation   relationship   race     sex  capital_gain  \\\n",
      "0       Adm-clerical  Not-in-family  White    Male          2174   \n",
      "1    Exec-managerial        Husband  White    Male             0   \n",
      "2  Handlers-cleaners  Not-in-family  White    Male             0   \n",
      "3  Handlers-cleaners        Husband  Black    Male             0   \n",
      "4     Prof-specialty           Wife  Black  Female             0   \n",
      "\n",
      "   capital_loss  hours_per_week native_country income  \n",
      "0             0              40  United-States  <=50K  \n",
      "1             0              13  United-States  <=50K  \n",
      "2             0              40  United-States  <=50K  \n",
      "3             0              40  United-States  <=50K  \n",
      "4             0              40           Cuba  <=50K  \n",
      "<class 'pandas.core.frame.DataFrame'>\n",
      "RangeIndex: 32561 entries, 0 to 32560\n",
      "Data columns (total 15 columns):\n",
      " #   Column          Non-Null Count  Dtype \n",
      "---  ------          --------------  ----- \n",
      " 0   age             32561 non-null  int64 \n",
      " 1   workclass       30725 non-null  object\n",
      " 2   fnlwgt          32561 non-null  int64 \n",
      " 3   education       32561 non-null  object\n",
      " 4   education_num   32561 non-null  int64 \n",
      " 5   marital_status  32561 non-null  object\n",
      " 6   occupation      30718 non-null  object\n",
      " 7   relationship    32561 non-null  object\n",
      " 8   race            32561 non-null  object\n",
      " 9   sex             32561 non-null  object\n",
      " 10  capital_gain    32561 non-null  int64 \n",
      " 11  capital_loss    32561 non-null  int64 \n",
      " 12  hours_per_week  32561 non-null  int64 \n",
      " 13  native_country  31978 non-null  object\n",
      " 14  income          32561 non-null  object\n",
      "dtypes: int64(6), object(9)\n",
      "memory usage: 3.7+ MB\n",
      "None\n"
     ]
    }
   ],
   "source": [
    "print(df.head())\n",
    "print(df.info())"
   ]
  },
  {
   "cell_type": "code",
   "execution_count": 8,
   "id": "cce057f7",
   "metadata": {},
   "outputs": [],
   "source": [
    "df.to_csv('pro_adult_data.data', index=False,header=False)"
   ]
  },
  {
   "cell_type": "code",
   "execution_count": 11,
   "id": "1b5687e9",
   "metadata": {},
   "outputs": [],
   "source": [
    "total_rows = len(df)\n",
    "partition_size = 6514\n",
    "num_partitions = total_rows // partition_size  # 完整的分区数\n",
    "\n",
    "\n",
    "df['partition_id'] = np.arange(total_rows) // partition_size\n",
    "\n",
    "\n",
    "if total_rows % partition_size != 0:\n",
    "    df.loc[df['partition_id'] > num_partitions, 'partition_id'] = num_partitions\n"
   ]
  },
  {
   "cell_type": "code",
   "execution_count": 12,
   "id": "cee7ecb4",
   "metadata": {},
   "outputs": [],
   "source": [
    "df.to_csv('par_adult_data.data', index=False,header=False)"
   ]
  }
 ],
 "metadata": {
  "kernelspec": {
   "display_name": "Python 3 (ipykernel)",
   "language": "python",
   "name": "python3"
  },
  "language_info": {
   "codemirror_mode": {
    "name": "ipython",
    "version": 3
   },
   "file_extension": ".py",
   "mimetype": "text/x-python",
   "name": "python",
   "nbconvert_exporter": "python",
   "pygments_lexer": "ipython3",
   "version": "3.11.4"
  }
 },
 "nbformat": 4,
 "nbformat_minor": 5
}
